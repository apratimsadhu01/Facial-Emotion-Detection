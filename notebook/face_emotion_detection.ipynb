{
  "nbformat": 4,
  "nbformat_minor": 0,
  "metadata": {
    "colab": {
      "name": "face emotion detection.ipynb",
      "provenance": [],
      "collapsed_sections": []
    },
    "kernelspec": {
      "name": "python3",
      "display_name": "Python 3"
    },
    "language_info": {
      "name": "python"
    },
    "accelerator": "GPU"
  },
  "cells": [
    {
      "cell_type": "code",
      "source": [
        "! pip install kaggle"
      ],
      "metadata": {
        "colab": {
          "base_uri": "https://localhost:8080/"
        },
        "id": "GJ_aDNoJV32y",
        "outputId": "14650277-a0c5-4f09-81f1-0c6513c6536d"
      },
      "execution_count": 1,
      "outputs": [
        {
          "output_type": "stream",
          "name": "stdout",
          "text": [
            "Requirement already satisfied: kaggle in /usr/local/lib/python3.7/dist-packages (1.5.12)\n",
            "Requirement already satisfied: urllib3 in /usr/local/lib/python3.7/dist-packages (from kaggle) (1.24.3)\n",
            "Requirement already satisfied: six>=1.10 in /usr/local/lib/python3.7/dist-packages (from kaggle) (1.15.0)\n",
            "Requirement already satisfied: requests in /usr/local/lib/python3.7/dist-packages (from kaggle) (2.23.0)\n",
            "Requirement already satisfied: python-slugify in /usr/local/lib/python3.7/dist-packages (from kaggle) (6.1.1)\n",
            "Requirement already satisfied: certifi in /usr/local/lib/python3.7/dist-packages (from kaggle) (2021.10.8)\n",
            "Requirement already satisfied: python-dateutil in /usr/local/lib/python3.7/dist-packages (from kaggle) (2.8.2)\n",
            "Requirement already satisfied: tqdm in /usr/local/lib/python3.7/dist-packages (from kaggle) (4.63.0)\n",
            "Requirement already satisfied: text-unidecode>=1.3 in /usr/local/lib/python3.7/dist-packages (from python-slugify->kaggle) (1.3)\n",
            "Requirement already satisfied: chardet<4,>=3.0.2 in /usr/local/lib/python3.7/dist-packages (from requests->kaggle) (3.0.4)\n",
            "Requirement already satisfied: idna<3,>=2.5 in /usr/local/lib/python3.7/dist-packages (from requests->kaggle) (2.10)\n"
          ]
        }
      ]
    },
    {
      "cell_type": "code",
      "execution_count": 3,
      "metadata": {
        "colab": {
          "base_uri": "https://localhost:8080/"
        },
        "id": "_senIefnT8BR",
        "outputId": "20b2a2eb-8e02-4f5d-ec1d-6f6455ce9aa6"
      },
      "outputs": [
        {
          "output_type": "stream",
          "name": "stdout",
          "text": [
            "Mounted at /content/drive\n"
          ]
        }
      ],
      "source": [
        "from google.colab import drive\n",
        "drive.mount('/content/drive')"
      ]
    },
    {
      "cell_type": "code",
      "source": [
        "! mkdir ~/.kaggle"
      ],
      "metadata": {
        "id": "qJTlz8PlUfMI"
      },
      "execution_count": 4,
      "outputs": []
    },
    {
      "cell_type": "code",
      "source": [
        "!cp /content/drive/MyDrive/kaggle.json ~/.kaggle/kaggle.json"
      ],
      "metadata": {
        "id": "_TC5zXvNeC4c"
      },
      "execution_count": 5,
      "outputs": []
    },
    {
      "cell_type": "code",
      "source": [
        "!kaggle competitions download -c challenges-in-representation-learning-facial-expression-recognition-challenge"
      ],
      "metadata": {
        "colab": {
          "base_uri": "https://localhost:8080/"
        },
        "id": "Fx4grqLkVyt4",
        "outputId": "7c800210-5b99-4666-aaa0-a7bebb67036a"
      },
      "execution_count": 6,
      "outputs": [
        {
          "output_type": "stream",
          "name": "stdout",
          "text": [
            "Downloading challenges-in-representation-learning-facial-expression-recognition-challenge.zip to /content\n",
            " 99% 282M/285M [00:11<00:00, 36.5MB/s]\n",
            "100% 285M/285M [00:11<00:00, 26.4MB/s]\n"
          ]
        }
      ]
    },
    {
      "cell_type": "code",
      "source": [
        "! unzip challenges-in-representation-learning-facial-expression-recognition-challenge"
      ],
      "metadata": {
        "colab": {
          "base_uri": "https://localhost:8080/"
        },
        "id": "mN5RoCt1dHR9",
        "outputId": "f4b6d6a1-3a05-437c-e480-51dbc56f97ed"
      },
      "execution_count": 7,
      "outputs": [
        {
          "output_type": "stream",
          "name": "stdout",
          "text": [
            "Archive:  challenges-in-representation-learning-facial-expression-recognition-challenge.zip\n",
            "  inflating: example_submission.csv  \n",
            "  inflating: fer2013.tar.gz          \n",
            "  inflating: icml_face_data.csv      \n",
            "  inflating: test.csv                \n",
            "  inflating: train.csv               \n"
          ]
        }
      ]
    },
    {
      "cell_type": "code",
      "source": [
        "! tar -xzvf fer2013.tar.gz"
      ],
      "metadata": {
        "colab": {
          "base_uri": "https://localhost:8080/"
        },
        "id": "yx9IwsDmhG_0",
        "outputId": "00d7745f-6b80-4ae2-ec52-455d1310ad25"
      },
      "execution_count": 8,
      "outputs": [
        {
          "output_type": "stream",
          "name": "stdout",
          "text": [
            "fer2013/fer2013.csv\n",
            "fer2013/README\n",
            "fer2013/fer2013.bib\n",
            "fer2013/\n"
          ]
        }
      ]
    },
    {
      "cell_type": "code",
      "source": [
        "import tarfile\n",
        "import pandas as pd\n",
        "import numpy as np\n",
        "import matplotlib.pyplot as plt\n",
        "from keras.models import Sequential, Model, model_from_json\n",
        "from keras.layers import Dense, Conv2D, Activation, MaxPool2D, Flatten, Dropout, BatchNormalization\n",
        "from keras.utils import np_utils\n",
        "from keras.callbacks import ModelCheckpoint\n",
        "\n",
        "%matplotlib inline"
      ],
      "metadata": {
        "id": "VMIYbGongrV7"
      },
      "execution_count": 9,
      "outputs": []
    },
    {
      "cell_type": "code",
      "source": [
        "df = pd.read_csv(\"fer2013/fer2013.csv\")\n",
        "df.head()"
      ],
      "metadata": {
        "id": "93SfA3sOg37Y",
        "colab": {
          "base_uri": "https://localhost:8080/",
          "height": 206
        },
        "outputId": "5ce6f6a6-e58a-4040-b61e-af3cde1429eb"
      },
      "execution_count": 10,
      "outputs": [
        {
          "output_type": "execute_result",
          "data": {
            "text/plain": [
              "   emotion                                             pixels     Usage\n",
              "0        0  70 80 82 72 58 58 60 63 54 58 60 48 89 115 121...  Training\n",
              "1        0  151 150 147 155 148 133 111 140 170 174 182 15...  Training\n",
              "2        2  231 212 156 164 174 138 161 173 182 200 106 38...  Training\n",
              "3        4  24 32 36 30 32 23 19 20 30 41 21 22 32 34 21 1...  Training\n",
              "4        6  4 0 0 0 0 0 0 0 0 0 0 0 3 15 23 28 48 50 58 84...  Training"
            ],
            "text/html": [
              "\n",
              "  <div id=\"df-894ed794-7619-41cc-82a6-dddd41fefb22\">\n",
              "    <div class=\"colab-df-container\">\n",
              "      <div>\n",
              "<style scoped>\n",
              "    .dataframe tbody tr th:only-of-type {\n",
              "        vertical-align: middle;\n",
              "    }\n",
              "\n",
              "    .dataframe tbody tr th {\n",
              "        vertical-align: top;\n",
              "    }\n",
              "\n",
              "    .dataframe thead th {\n",
              "        text-align: right;\n",
              "    }\n",
              "</style>\n",
              "<table border=\"1\" class=\"dataframe\">\n",
              "  <thead>\n",
              "    <tr style=\"text-align: right;\">\n",
              "      <th></th>\n",
              "      <th>emotion</th>\n",
              "      <th>pixels</th>\n",
              "      <th>Usage</th>\n",
              "    </tr>\n",
              "  </thead>\n",
              "  <tbody>\n",
              "    <tr>\n",
              "      <th>0</th>\n",
              "      <td>0</td>\n",
              "      <td>70 80 82 72 58 58 60 63 54 58 60 48 89 115 121...</td>\n",
              "      <td>Training</td>\n",
              "    </tr>\n",
              "    <tr>\n",
              "      <th>1</th>\n",
              "      <td>0</td>\n",
              "      <td>151 150 147 155 148 133 111 140 170 174 182 15...</td>\n",
              "      <td>Training</td>\n",
              "    </tr>\n",
              "    <tr>\n",
              "      <th>2</th>\n",
              "      <td>2</td>\n",
              "      <td>231 212 156 164 174 138 161 173 182 200 106 38...</td>\n",
              "      <td>Training</td>\n",
              "    </tr>\n",
              "    <tr>\n",
              "      <th>3</th>\n",
              "      <td>4</td>\n",
              "      <td>24 32 36 30 32 23 19 20 30 41 21 22 32 34 21 1...</td>\n",
              "      <td>Training</td>\n",
              "    </tr>\n",
              "    <tr>\n",
              "      <th>4</th>\n",
              "      <td>6</td>\n",
              "      <td>4 0 0 0 0 0 0 0 0 0 0 0 3 15 23 28 48 50 58 84...</td>\n",
              "      <td>Training</td>\n",
              "    </tr>\n",
              "  </tbody>\n",
              "</table>\n",
              "</div>\n",
              "      <button class=\"colab-df-convert\" onclick=\"convertToInteractive('df-894ed794-7619-41cc-82a6-dddd41fefb22')\"\n",
              "              title=\"Convert this dataframe to an interactive table.\"\n",
              "              style=\"display:none;\">\n",
              "        \n",
              "  <svg xmlns=\"http://www.w3.org/2000/svg\" height=\"24px\"viewBox=\"0 0 24 24\"\n",
              "       width=\"24px\">\n",
              "    <path d=\"M0 0h24v24H0V0z\" fill=\"none\"/>\n",
              "    <path d=\"M18.56 5.44l.94 2.06.94-2.06 2.06-.94-2.06-.94-.94-2.06-.94 2.06-2.06.94zm-11 1L8.5 8.5l.94-2.06 2.06-.94-2.06-.94L8.5 2.5l-.94 2.06-2.06.94zm10 10l.94 2.06.94-2.06 2.06-.94-2.06-.94-.94-2.06-.94 2.06-2.06.94z\"/><path d=\"M17.41 7.96l-1.37-1.37c-.4-.4-.92-.59-1.43-.59-.52 0-1.04.2-1.43.59L10.3 9.45l-7.72 7.72c-.78.78-.78 2.05 0 2.83L4 21.41c.39.39.9.59 1.41.59.51 0 1.02-.2 1.41-.59l7.78-7.78 2.81-2.81c.8-.78.8-2.07 0-2.86zM5.41 20L4 18.59l7.72-7.72 1.47 1.35L5.41 20z\"/>\n",
              "  </svg>\n",
              "      </button>\n",
              "      \n",
              "  <style>\n",
              "    .colab-df-container {\n",
              "      display:flex;\n",
              "      flex-wrap:wrap;\n",
              "      gap: 12px;\n",
              "    }\n",
              "\n",
              "    .colab-df-convert {\n",
              "      background-color: #E8F0FE;\n",
              "      border: none;\n",
              "      border-radius: 50%;\n",
              "      cursor: pointer;\n",
              "      display: none;\n",
              "      fill: #1967D2;\n",
              "      height: 32px;\n",
              "      padding: 0 0 0 0;\n",
              "      width: 32px;\n",
              "    }\n",
              "\n",
              "    .colab-df-convert:hover {\n",
              "      background-color: #E2EBFA;\n",
              "      box-shadow: 0px 1px 2px rgba(60, 64, 67, 0.3), 0px 1px 3px 1px rgba(60, 64, 67, 0.15);\n",
              "      fill: #174EA6;\n",
              "    }\n",
              "\n",
              "    [theme=dark] .colab-df-convert {\n",
              "      background-color: #3B4455;\n",
              "      fill: #D2E3FC;\n",
              "    }\n",
              "\n",
              "    [theme=dark] .colab-df-convert:hover {\n",
              "      background-color: #434B5C;\n",
              "      box-shadow: 0px 1px 3px 1px rgba(0, 0, 0, 0.15);\n",
              "      filter: drop-shadow(0px 1px 2px rgba(0, 0, 0, 0.3));\n",
              "      fill: #FFFFFF;\n",
              "    }\n",
              "  </style>\n",
              "\n",
              "      <script>\n",
              "        const buttonEl =\n",
              "          document.querySelector('#df-894ed794-7619-41cc-82a6-dddd41fefb22 button.colab-df-convert');\n",
              "        buttonEl.style.display =\n",
              "          google.colab.kernel.accessAllowed ? 'block' : 'none';\n",
              "\n",
              "        async function convertToInteractive(key) {\n",
              "          const element = document.querySelector('#df-894ed794-7619-41cc-82a6-dddd41fefb22');\n",
              "          const dataTable =\n",
              "            await google.colab.kernel.invokeFunction('convertToInteractive',\n",
              "                                                     [key], {});\n",
              "          if (!dataTable) return;\n",
              "\n",
              "          const docLinkHtml = 'Like what you see? Visit the ' +\n",
              "            '<a target=\"_blank\" href=https://colab.research.google.com/notebooks/data_table.ipynb>data table notebook</a>'\n",
              "            + ' to learn more about interactive tables.';\n",
              "          element.innerHTML = '';\n",
              "          dataTable['output_type'] = 'display_data';\n",
              "          await google.colab.output.renderOutput(dataTable, element);\n",
              "          const docLink = document.createElement('div');\n",
              "          docLink.innerHTML = docLinkHtml;\n",
              "          element.appendChild(docLink);\n",
              "        }\n",
              "      </script>\n",
              "    </div>\n",
              "  </div>\n",
              "  "
            ]
          },
          "metadata": {},
          "execution_count": 10
        }
      ]
    },
    {
      "cell_type": "code",
      "source": [
        "X_train = []\n",
        "y_train = []\n",
        "X_test = []\n",
        "y_test = []\n",
        "for index, row in df.iterrows():\n",
        "    k = row['pixels'].split(\" \")\n",
        "    if row['Usage'] == 'Training':\n",
        "        X_train.append(np.array(k))\n",
        "        y_train.append(row['emotion'])\n",
        "    elif row['Usage'] == 'PublicTest':\n",
        "        X_test.append(np.array(k))\n",
        "        y_test.append(row['emotion'])"
      ],
      "metadata": {
        "id": "OXrysGR-WEHt"
      },
      "execution_count": 11,
      "outputs": []
    },
    {
      "cell_type": "code",
      "source": [
        "X_train = np.array(X_train, dtype = 'uint8')\n",
        "y_train = np.array(y_train, dtype = 'uint8')\n",
        "X_test = np.array(X_test, dtype = 'uint8')\n",
        "y_test = np.array(y_test, dtype = 'uint8')"
      ],
      "metadata": {
        "id": "X5e5Yg4uWEkm"
      },
      "execution_count": 12,
      "outputs": []
    },
    {
      "cell_type": "code",
      "source": [
        "import keras\n",
        "from tensorflow.keras.utils import to_categorical\n",
        "y_train= to_categorical(y_train, num_classes=7)\n",
        "y_test = to_categorical(y_test, num_classes=7)"
      ],
      "metadata": {
        "id": "EY7uqJdKWIhv"
      },
      "execution_count": 13,
      "outputs": []
    },
    {
      "cell_type": "code",
      "source": [
        "X_train = X_train.reshape(X_train.shape[0], 48, 48, 1)\n",
        "X_test = X_test.reshape(X_test.shape[0], 48, 48, 1)"
      ],
      "metadata": {
        "id": "I28rmSE0WLs5"
      },
      "execution_count": 14,
      "outputs": []
    },
    {
      "cell_type": "code",
      "source": [
        "from keras.preprocessing.image import ImageDataGenerator \n",
        "datagen = ImageDataGenerator( \n",
        "    rescale=1./255,\n",
        "    rotation_range = 10,\n",
        "    horizontal_flip = True,\n",
        "    width_shift_range=0.1,\n",
        "    height_shift_range=0.1,\n",
        "    fill_mode = 'nearest')\n",
        "\n",
        "testgen = ImageDataGenerator(rescale=1./255)\n",
        "datagen.fit(X_train)\n",
        "\n",
        "batch_size=64"
      ],
      "metadata": {
        "id": "T_YQwhOQWo12"
      },
      "execution_count": 15,
      "outputs": []
    },
    {
      "cell_type": "code",
      "source": [
        "train_flow = datagen.flow(X_train, y_train, batch_size=batch_size) \n",
        "test_flow = testgen.flow(X_test, y_test, batch_size=batch_size)"
      ],
      "metadata": {
        "id": "l-g0WXNYWusk"
      },
      "execution_count": 16,
      "outputs": []
    },
    {
      "cell_type": "code",
      "source": [
        "from tensorflow.keras.utils import plot_model\n",
        "from keras.models import Model\n",
        "from keras.layers import Input, Dense, Flatten, Dropout, BatchNormalization\n",
        "from keras.layers.convolutional import Conv2D\n",
        "from keras.layers.pooling import MaxPooling2D\n",
        "from keras.layers.merge import concatenate\n",
        "from tensorflow.keras.optimizers import Adam, SGD\n",
        "from keras.regularizers import l1, l2\n",
        "from matplotlib import pyplot as plt\n",
        "from sklearn.metrics import confusion_matrix"
      ],
      "metadata": {
        "id": "eGRe5uu1WwlZ"
      },
      "execution_count": 17,
      "outputs": []
    },
    {
      "cell_type": "code",
      "source": [
        "def FER_Model(input_shape=(48,48,1)):\n",
        "    # first input model\n",
        "    visible = Input(shape=input_shape, name='input')\n",
        "    num_classes = 7\n",
        "    #the 1-st block\n",
        "    conv1_1 = Conv2D(64, kernel_size=3, activation='relu', padding='same', name = 'conv1_1')(visible)\n",
        "    conv1_1 = BatchNormalization()(conv1_1)\n",
        "    conv1_2 = Conv2D(64, kernel_size=3, activation='relu', padding='same', name = 'conv1_2')(conv1_1)\n",
        "    conv1_2 = BatchNormalization()(conv1_2)\n",
        "    pool1_1 = MaxPooling2D(pool_size=(2,2), name = 'pool1_1')(conv1_2)\n",
        "    drop1_1 = Dropout(0.3, name = 'drop1_1')(pool1_1)\n",
        "    \n",
        "    #the 2-nd block\n",
        "    conv2_1 = Conv2D(128, kernel_size=3, activation='relu', padding='same', name = 'conv2_1')(drop1_1)\n",
        "    conv2_1 = BatchNormalization()(conv2_1)\n",
        "    conv2_2 = Conv2D(128, kernel_size=3, activation='relu', padding='same', name = 'conv2_2')(conv2_1)\n",
        "    conv2_2 = BatchNormalization()(conv2_2)\n",
        "    conv2_3 = Conv2D(128, kernel_size=3, activation='relu', padding='same', name = 'conv2_3')(conv2_2)\n",
        "    conv2_2 = BatchNormalization()(conv2_3)\n",
        "    pool2_1 = MaxPooling2D(pool_size=(2,2), name = 'pool2_1')(conv2_3)\n",
        "    drop2_1 = Dropout(0.3, name = 'drop2_1')(pool2_1)\n",
        "    \n",
        "    #the 3-rd block\n",
        "    conv3_1 = Conv2D(256, kernel_size=3, activation='relu', padding='same', name = 'conv3_1')(drop2_1)\n",
        "    conv3_1 = BatchNormalization()(conv3_1)\n",
        "    conv3_2 = Conv2D(256, kernel_size=3, activation='relu', padding='same', name = 'conv3_2')(conv3_1)\n",
        "    conv3_2 = BatchNormalization()(conv3_2)\n",
        "    conv3_3 = Conv2D(256, kernel_size=3, activation='relu', padding='same', name = 'conv3_3')(conv3_2)\n",
        "    conv3_3 = BatchNormalization()(conv3_3)\n",
        "    conv3_4 = Conv2D(256, kernel_size=3, activation='relu', padding='same', name = 'conv3_4')(conv3_3)\n",
        "    conv3_4 = BatchNormalization()(conv3_4)\n",
        "    pool3_1 = MaxPooling2D(pool_size=(2,2), name = 'pool3_1')(conv3_4)\n",
        "    drop3_1 = Dropout(0.3, name = 'drop3_1')(pool3_1)\n",
        "    \n",
        "    #the 4-th block\n",
        "    conv4_1 = Conv2D(256, kernel_size=3, activation='relu', padding='same', name = 'conv4_1')(drop3_1)\n",
        "    conv4_1 = BatchNormalization()(conv4_1)\n",
        "    conv4_2 = Conv2D(256, kernel_size=3, activation='relu', padding='same', name = 'conv4_2')(conv4_1)\n",
        "    conv4_2 = BatchNormalization()(conv4_2)\n",
        "    conv4_3 = Conv2D(256, kernel_size=3, activation='relu', padding='same', name = 'conv4_3')(conv4_2)\n",
        "    conv4_3 = BatchNormalization()(conv4_3)\n",
        "    conv4_4 = Conv2D(256, kernel_size=3, activation='relu', padding='same', name = 'conv4_4')(conv4_3)\n",
        "    conv4_4 = BatchNormalization()(conv4_4)\n",
        "    pool4_1 = MaxPooling2D(pool_size=(2,2), name = 'pool4_1')(conv4_4)\n",
        "    drop4_1 = Dropout(0.3, name = 'drop4_1')(pool4_1)\n",
        "    \n",
        "    #the 5-th block\n",
        "    conv5_1 = Conv2D(512, kernel_size=3, activation='relu', padding='same', name = 'conv5_1')(drop4_1)\n",
        "    conv5_1 = BatchNormalization()(conv5_1)\n",
        "    conv5_2 = Conv2D(512, kernel_size=3, activation='relu', padding='same', name = 'conv5_2')(conv5_1)\n",
        "    conv5_2 = BatchNormalization()(conv5_2)\n",
        "    conv5_3 = Conv2D(512, kernel_size=3, activation='relu', padding='same', name = 'conv5_3')(conv5_2)\n",
        "    conv5_3 = BatchNormalization()(conv5_3)\n",
        "    conv5_4 = Conv2D(512, kernel_size=3, activation='relu', padding='same', name = 'conv5_4')(conv5_3)\n",
        "    conv5_3 = BatchNormalization()(conv5_3)\n",
        "    pool5_1 = MaxPooling2D(pool_size=(2,2), name = 'pool5_1')(conv5_4)\n",
        "    drop5_1 = Dropout(0.3, name = 'drop5_1')(pool5_1)\n",
        "    \n",
        "    #Flatten and output\n",
        "    flatten = Flatten(name = 'flatten')(drop5_1)\n",
        "    dense1 = Dense(512, activation='relu', name = 'dense1')(flatten)\n",
        "    dense2 = Dense(256, activation='relu', name = 'dense2')(dense1)\n",
        "    dense3 = Dense(128, activation='relu', name = 'dense3')(dense2)\n",
        "    ouput = Dense(num_classes, activation='softmax', name = 'output')(dense3)\n",
        "    # create model \n",
        "    model = Model(inputs =visible, outputs = ouput)\n",
        "\n",
        "    return model"
      ],
      "metadata": {
        "id": "U9-QsvSHWybP"
      },
      "execution_count": null,
      "outputs": []
    },
    {
      "cell_type": "code",
      "source": [
        "model = FER_Model()\n",
        "opt = Adam(lr=0.0001, decay=1e-6)\n",
        "model.compile(loss='categorical_crossentropy', optimizer=opt, metrics=['accuracy'])\n",
        "model.summary()"
      ],
      "metadata": {
        "colab": {
          "base_uri": "https://localhost:8080/"
        },
        "id": "3U9erG8HYUAN",
        "outputId": "9c4c9336-c7e7-4537-bb7a-d3098e7e0f10"
      },
      "execution_count": null,
      "outputs": [
        {
          "output_type": "stream",
          "name": "stdout",
          "text": [
            "Model: \"model_2\"\n",
            "_________________________________________________________________\n",
            " Layer (type)                Output Shape              Param #   \n",
            "=================================================================\n",
            " input (InputLayer)          [(None, 48, 48, 1)]       0         \n",
            "                                                                 \n",
            " conv1_1 (Conv2D)            (None, 48, 48, 64)        640       \n",
            "                                                                 \n",
            " batch_normalization_42 (Bat  (None, 48, 48, 64)       256       \n",
            " chNormalization)                                                \n",
            "                                                                 \n",
            " conv1_2 (Conv2D)            (None, 48, 48, 64)        36928     \n",
            "                                                                 \n",
            " batch_normalization_43 (Bat  (None, 48, 48, 64)       256       \n",
            " chNormalization)                                                \n",
            "                                                                 \n",
            " pool1_1 (MaxPooling2D)      (None, 24, 24, 64)        0         \n",
            "                                                                 \n",
            " drop1_1 (Dropout)           (None, 24, 24, 64)        0         \n",
            "                                                                 \n",
            " conv2_1 (Conv2D)            (None, 24, 24, 128)       73856     \n",
            "                                                                 \n",
            " batch_normalization_44 (Bat  (None, 24, 24, 128)      512       \n",
            " chNormalization)                                                \n",
            "                                                                 \n",
            " conv2_2 (Conv2D)            (None, 24, 24, 128)       147584    \n",
            "                                                                 \n",
            " batch_normalization_45 (Bat  (None, 24, 24, 128)      512       \n",
            " chNormalization)                                                \n",
            "                                                                 \n",
            " conv2_3 (Conv2D)            (None, 24, 24, 128)       147584    \n",
            "                                                                 \n",
            " pool2_1 (MaxPooling2D)      (None, 12, 12, 128)       0         \n",
            "                                                                 \n",
            " drop2_1 (Dropout)           (None, 12, 12, 128)       0         \n",
            "                                                                 \n",
            " conv3_1 (Conv2D)            (None, 12, 12, 256)       295168    \n",
            "                                                                 \n",
            " batch_normalization_47 (Bat  (None, 12, 12, 256)      1024      \n",
            " chNormalization)                                                \n",
            "                                                                 \n",
            " conv3_2 (Conv2D)            (None, 12, 12, 256)       590080    \n",
            "                                                                 \n",
            " batch_normalization_48 (Bat  (None, 12, 12, 256)      1024      \n",
            " chNormalization)                                                \n",
            "                                                                 \n",
            " conv3_3 (Conv2D)            (None, 12, 12, 256)       590080    \n",
            "                                                                 \n",
            " batch_normalization_49 (Bat  (None, 12, 12, 256)      1024      \n",
            " chNormalization)                                                \n",
            "                                                                 \n",
            " conv3_4 (Conv2D)            (None, 12, 12, 256)       590080    \n",
            "                                                                 \n",
            " batch_normalization_50 (Bat  (None, 12, 12, 256)      1024      \n",
            " chNormalization)                                                \n",
            "                                                                 \n",
            " pool3_1 (MaxPooling2D)      (None, 6, 6, 256)         0         \n",
            "                                                                 \n",
            " drop3_1 (Dropout)           (None, 6, 6, 256)         0         \n",
            "                                                                 \n",
            " conv4_1 (Conv2D)            (None, 6, 6, 256)         590080    \n",
            "                                                                 \n",
            " batch_normalization_51 (Bat  (None, 6, 6, 256)        1024      \n",
            " chNormalization)                                                \n",
            "                                                                 \n",
            " conv4_2 (Conv2D)            (None, 6, 6, 256)         590080    \n",
            "                                                                 \n",
            " batch_normalization_52 (Bat  (None, 6, 6, 256)        1024      \n",
            " chNormalization)                                                \n",
            "                                                                 \n",
            " conv4_3 (Conv2D)            (None, 6, 6, 256)         590080    \n",
            "                                                                 \n",
            " batch_normalization_53 (Bat  (None, 6, 6, 256)        1024      \n",
            " chNormalization)                                                \n",
            "                                                                 \n",
            " conv4_4 (Conv2D)            (None, 6, 6, 256)         590080    \n",
            "                                                                 \n",
            " batch_normalization_54 (Bat  (None, 6, 6, 256)        1024      \n",
            " chNormalization)                                                \n",
            "                                                                 \n",
            " pool4_1 (MaxPooling2D)      (None, 3, 3, 256)         0         \n",
            "                                                                 \n",
            " drop4_1 (Dropout)           (None, 3, 3, 256)         0         \n",
            "                                                                 \n"
          ]
        },
        {
          "output_type": "stream",
          "name": "stderr",
          "text": [
            "/usr/local/lib/python3.7/dist-packages/keras/optimizer_v2/adam.py:105: UserWarning: The `lr` argument is deprecated, use `learning_rate` instead.\n",
            "  super(Adam, self).__init__(name, **kwargs)\n"
          ]
        },
        {
          "output_type": "stream",
          "name": "stdout",
          "text": [
            " conv5_1 (Conv2D)            (None, 3, 3, 512)         1180160   \n",
            "                                                                 \n",
            " batch_normalization_55 (Bat  (None, 3, 3, 512)        2048      \n",
            " chNormalization)                                                \n",
            "                                                                 \n",
            " conv5_2 (Conv2D)            (None, 3, 3, 512)         2359808   \n",
            "                                                                 \n",
            " batch_normalization_56 (Bat  (None, 3, 3, 512)        2048      \n",
            " chNormalization)                                                \n",
            "                                                                 \n",
            " conv5_3 (Conv2D)            (None, 3, 3, 512)         2359808   \n",
            "                                                                 \n",
            " batch_normalization_57 (Bat  (None, 3, 3, 512)        2048      \n",
            " chNormalization)                                                \n",
            "                                                                 \n",
            " conv5_4 (Conv2D)            (None, 3, 3, 512)         2359808   \n",
            "                                                                 \n",
            " pool5_1 (MaxPooling2D)      (None, 1, 1, 512)         0         \n",
            "                                                                 \n",
            " drop5_1 (Dropout)           (None, 1, 1, 512)         0         \n",
            "                                                                 \n",
            " flatten (Flatten)           (None, 512)               0         \n",
            "                                                                 \n",
            " dense1 (Dense)              (None, 512)               262656    \n",
            "                                                                 \n",
            " dense2 (Dense)              (None, 256)               131328    \n",
            "                                                                 \n",
            " dense3 (Dense)              (None, 128)               32896     \n",
            "                                                                 \n",
            " output (Dense)              (None, 7)                 903       \n",
            "                                                                 \n",
            "=================================================================\n",
            "Total params: 13,535,559\n",
            "Trainable params: 13,527,623\n",
            "Non-trainable params: 7,936\n",
            "_________________________________________________________________\n"
          ]
        }
      ]
    },
    {
      "cell_type": "code",
      "source": [
        "num_epochs = 100  \n",
        "history = model.fit_generator(train_flow, \n",
        "                    steps_per_epoch=len(X_train) / batch_size, \n",
        "                    epochs=num_epochs,  \n",
        "                    verbose=1,  \n",
        "                    validation_data=test_flow,\n",
        "                    validation_steps=len(X_test) / batch_size)"
      ],
      "metadata": {
        "colab": {
          "base_uri": "https://localhost:8080/"
        },
        "id": "2Gw7-wx6YZhr",
        "outputId": "a78d1d09-b71b-4396-9e62-c60aa5bd35b1"
      },
      "execution_count": null,
      "outputs": [
        {
          "metadata": {
            "tags": null
          },
          "name": "stderr",
          "output_type": "stream",
          "text": [
            "/usr/local/lib/python3.7/dist-packages/ipykernel_launcher.py:7: UserWarning: `Model.fit_generator` is deprecated and will be removed in a future version. Please use `Model.fit`, which supports generators.\n",
            "  import sys\n"
          ]
        },
        {
          "output_type": "stream",
          "name": "stdout",
          "text": [
            "Epoch 1/100\n",
            "448/448 [==============================] - 75s 161ms/step - loss: 1.8141 - accuracy: 0.2437 - val_loss: 1.8686 - val_accuracy: 0.2352\n",
            "Epoch 2/100\n",
            "448/448 [==============================] - 71s 159ms/step - loss: 1.7660 - accuracy: 0.2668 - val_loss: 1.8347 - val_accuracy: 0.2655\n",
            "Epoch 3/100\n",
            "448/448 [==============================] - 71s 159ms/step - loss: 1.6867 - accuracy: 0.3234 - val_loss: 1.6539 - val_accuracy: 0.3678\n",
            "Epoch 4/100\n",
            "448/448 [==============================] - 71s 159ms/step - loss: 1.5890 - accuracy: 0.3747 - val_loss: 1.5108 - val_accuracy: 0.4244\n",
            "Epoch 5/100\n",
            "448/448 [==============================] - 71s 159ms/step - loss: 1.5095 - accuracy: 0.4131 - val_loss: 1.4476 - val_accuracy: 0.4405\n",
            "Epoch 6/100\n",
            "448/448 [==============================] - 72s 160ms/step - loss: 1.4293 - accuracy: 0.4454 - val_loss: 1.3990 - val_accuracy: 0.4784\n",
            "Epoch 7/100\n",
            "448/448 [==============================] - 72s 159ms/step - loss: 1.3602 - accuracy: 0.4768 - val_loss: 1.2793 - val_accuracy: 0.5074\n",
            "Epoch 8/100\n",
            "448/448 [==============================] - 72s 161ms/step - loss: 1.2970 - accuracy: 0.5044 - val_loss: 1.2733 - val_accuracy: 0.5199\n",
            "Epoch 9/100\n",
            "448/448 [==============================] - 74s 164ms/step - loss: 1.2527 - accuracy: 0.5223 - val_loss: 1.2416 - val_accuracy: 0.5322\n",
            "Epoch 10/100\n",
            "448/448 [==============================] - 72s 160ms/step - loss: 1.2132 - accuracy: 0.5377 - val_loss: 1.1836 - val_accuracy: 0.5464\n",
            "Epoch 11/100\n",
            "448/448 [==============================] - 74s 164ms/step - loss: 1.1771 - accuracy: 0.5491 - val_loss: 1.2605 - val_accuracy: 0.5269\n",
            "Epoch 12/100\n",
            "448/448 [==============================] - 72s 161ms/step - loss: 1.1492 - accuracy: 0.5604 - val_loss: 1.1119 - val_accuracy: 0.5756\n",
            "Epoch 13/100\n",
            "448/448 [==============================] - 72s 160ms/step - loss: 1.1164 - accuracy: 0.5766 - val_loss: 1.1596 - val_accuracy: 0.5701\n",
            "Epoch 14/100\n",
            "448/448 [==============================] - 71s 159ms/step - loss: 1.1011 - accuracy: 0.5825 - val_loss: 1.2094 - val_accuracy: 0.5495\n",
            "Epoch 15/100\n",
            "448/448 [==============================] - 71s 159ms/step - loss: 1.0804 - accuracy: 0.5910 - val_loss: 1.0906 - val_accuracy: 0.5876\n",
            "Epoch 16/100\n",
            "448/448 [==============================] - 71s 159ms/step - loss: 1.0621 - accuracy: 0.5986 - val_loss: 1.0829 - val_accuracy: 0.5876\n",
            "Epoch 17/100\n",
            "448/448 [==============================] - 71s 159ms/step - loss: 1.0363 - accuracy: 0.6116 - val_loss: 1.1281 - val_accuracy: 0.5826\n",
            "Epoch 18/100\n",
            "448/448 [==============================] - 71s 158ms/step - loss: 1.0173 - accuracy: 0.6156 - val_loss: 1.0315 - val_accuracy: 0.6133\n",
            "Epoch 19/100\n",
            "448/448 [==============================] - 71s 158ms/step - loss: 1.0069 - accuracy: 0.6210 - val_loss: 1.0479 - val_accuracy: 0.6199\n",
            "Epoch 20/100\n",
            "448/448 [==============================] - 71s 159ms/step - loss: 0.9941 - accuracy: 0.6266 - val_loss: 1.0700 - val_accuracy: 0.6041\n",
            "Epoch 21/100\n",
            "448/448 [==============================] - 71s 159ms/step - loss: 0.9723 - accuracy: 0.6345 - val_loss: 1.0419 - val_accuracy: 0.6121\n",
            "Epoch 22/100\n",
            "448/448 [==============================] - 72s 159ms/step - loss: 0.9631 - accuracy: 0.6391 - val_loss: 1.0286 - val_accuracy: 0.6116\n",
            "Epoch 23/100\n",
            "448/448 [==============================] - 72s 159ms/step - loss: 0.9420 - accuracy: 0.6450 - val_loss: 1.0531 - val_accuracy: 0.6116\n",
            "Epoch 24/100\n",
            "448/448 [==============================] - 71s 159ms/step - loss: 0.9321 - accuracy: 0.6522 - val_loss: 1.0167 - val_accuracy: 0.6211\n",
            "Epoch 25/100\n",
            "448/448 [==============================] - 72s 160ms/step - loss: 0.9190 - accuracy: 0.6522 - val_loss: 1.0033 - val_accuracy: 0.6239\n",
            "Epoch 26/100\n",
            "448/448 [==============================] - 72s 160ms/step - loss: 0.9061 - accuracy: 0.6574 - val_loss: 0.9984 - val_accuracy: 0.6347\n",
            "Epoch 27/100\n",
            "448/448 [==============================] - 72s 160ms/step - loss: 0.8998 - accuracy: 0.6630 - val_loss: 1.0643 - val_accuracy: 0.6074\n",
            "Epoch 28/100\n",
            "448/448 [==============================] - 72s 160ms/step - loss: 0.8824 - accuracy: 0.6683 - val_loss: 0.9753 - val_accuracy: 0.6436\n",
            "Epoch 29/100\n",
            "448/448 [==============================] - 72s 160ms/step - loss: 0.8697 - accuracy: 0.6752 - val_loss: 1.0179 - val_accuracy: 0.6356\n",
            "Epoch 30/100\n",
            "448/448 [==============================] - 72s 159ms/step - loss: 0.8610 - accuracy: 0.6794 - val_loss: 0.9543 - val_accuracy: 0.6420\n",
            "Epoch 31/100\n",
            "448/448 [==============================] - 72s 160ms/step - loss: 0.8465 - accuracy: 0.6846 - val_loss: 0.9745 - val_accuracy: 0.6534\n",
            "Epoch 32/100\n",
            "448/448 [==============================] - 72s 160ms/step - loss: 0.8374 - accuracy: 0.6860 - val_loss: 0.9782 - val_accuracy: 0.6361\n",
            "Epoch 33/100\n",
            "448/448 [==============================] - 72s 160ms/step - loss: 0.8265 - accuracy: 0.6905 - val_loss: 0.9862 - val_accuracy: 0.6417\n",
            "Epoch 34/100\n",
            "448/448 [==============================] - 72s 160ms/step - loss: 0.8116 - accuracy: 0.6993 - val_loss: 0.9885 - val_accuracy: 0.6439\n",
            "Epoch 35/100\n",
            "448/448 [==============================] - 72s 160ms/step - loss: 0.8005 - accuracy: 0.6977 - val_loss: 0.9659 - val_accuracy: 0.6506\n",
            "Epoch 36/100\n",
            "448/448 [==============================] - 72s 160ms/step - loss: 0.7946 - accuracy: 0.7048 - val_loss: 0.9295 - val_accuracy: 0.6609\n",
            "Epoch 37/100\n",
            "448/448 [==============================] - 72s 160ms/step - loss: 0.7839 - accuracy: 0.7067 - val_loss: 0.9643 - val_accuracy: 0.6539\n",
            "Epoch 38/100\n",
            "448/448 [==============================] - 72s 160ms/step - loss: 0.7713 - accuracy: 0.7141 - val_loss: 0.9351 - val_accuracy: 0.6562\n",
            "Epoch 39/100\n",
            "448/448 [==============================] - 72s 160ms/step - loss: 0.7627 - accuracy: 0.7128 - val_loss: 0.9809 - val_accuracy: 0.6539\n",
            "Epoch 40/100\n",
            "448/448 [==============================] - 72s 160ms/step - loss: 0.7479 - accuracy: 0.7194 - val_loss: 0.9622 - val_accuracy: 0.6654\n",
            "Epoch 41/100\n",
            "448/448 [==============================] - 72s 160ms/step - loss: 0.7413 - accuracy: 0.7229 - val_loss: 0.9754 - val_accuracy: 0.6581\n",
            "Epoch 42/100\n",
            "448/448 [==============================] - 72s 160ms/step - loss: 0.7330 - accuracy: 0.7267 - val_loss: 0.9727 - val_accuracy: 0.6654\n",
            "Epoch 43/100\n",
            "448/448 [==============================] - 72s 160ms/step - loss: 0.7229 - accuracy: 0.7285 - val_loss: 0.9642 - val_accuracy: 0.6709\n",
            "Epoch 44/100\n",
            "448/448 [==============================] - 72s 160ms/step - loss: 0.7112 - accuracy: 0.7337 - val_loss: 0.9863 - val_accuracy: 0.6693\n",
            "Epoch 45/100\n",
            "448/448 [==============================] - 72s 160ms/step - loss: 0.7002 - accuracy: 0.7390 - val_loss: 0.9463 - val_accuracy: 0.6590\n",
            "Epoch 46/100\n",
            "448/448 [==============================] - 72s 160ms/step - loss: 0.6859 - accuracy: 0.7462 - val_loss: 0.9924 - val_accuracy: 0.6682\n",
            "Epoch 47/100\n",
            "448/448 [==============================] - 72s 160ms/step - loss: 0.6819 - accuracy: 0.7451 - val_loss: 0.9752 - val_accuracy: 0.6604\n",
            "Epoch 48/100\n",
            "448/448 [==============================] - 72s 160ms/step - loss: 0.6639 - accuracy: 0.7516 - val_loss: 0.9767 - val_accuracy: 0.6682\n",
            "Epoch 49/100\n",
            "448/448 [==============================] - 72s 160ms/step - loss: 0.6585 - accuracy: 0.7547 - val_loss: 0.9791 - val_accuracy: 0.6679\n",
            "Epoch 50/100\n",
            "448/448 [==============================] - 72s 160ms/step - loss: 0.6500 - accuracy: 0.7603 - val_loss: 0.9822 - val_accuracy: 0.6684\n",
            "Epoch 51/100\n",
            "448/448 [==============================] - 72s 160ms/step - loss: 0.6393 - accuracy: 0.7639 - val_loss: 0.9928 - val_accuracy: 0.6682\n",
            "Epoch 52/100\n",
            "448/448 [==============================] - 72s 160ms/step - loss: 0.6308 - accuracy: 0.7635 - val_loss: 1.0088 - val_accuracy: 0.6715\n",
            "Epoch 53/100\n",
            "448/448 [==============================] - 72s 160ms/step - loss: 0.6150 - accuracy: 0.7718 - val_loss: 1.0000 - val_accuracy: 0.6684\n",
            "Epoch 54/100\n",
            "448/448 [==============================] - 72s 160ms/step - loss: 0.6161 - accuracy: 0.7732 - val_loss: 0.9777 - val_accuracy: 0.6771\n",
            "Epoch 55/100\n",
            "448/448 [==============================] - 72s 160ms/step - loss: 0.6013 - accuracy: 0.7786 - val_loss: 1.0065 - val_accuracy: 0.6743\n",
            "Epoch 56/100\n",
            "448/448 [==============================] - 72s 160ms/step - loss: 0.5905 - accuracy: 0.7809 - val_loss: 1.0192 - val_accuracy: 0.6726\n",
            "Epoch 57/100\n",
            "448/448 [==============================] - 72s 160ms/step - loss: 0.5870 - accuracy: 0.7853 - val_loss: 1.0087 - val_accuracy: 0.6754\n",
            "Epoch 58/100\n",
            "448/448 [==============================] - 72s 160ms/step - loss: 0.5779 - accuracy: 0.7873 - val_loss: 1.0601 - val_accuracy: 0.6640\n",
            "Epoch 59/100\n",
            "448/448 [==============================] - 72s 160ms/step - loss: 0.5625 - accuracy: 0.7944 - val_loss: 1.0276 - val_accuracy: 0.6726\n",
            "Epoch 60/100\n",
            "448/448 [==============================] - 72s 160ms/step - loss: 0.5586 - accuracy: 0.7930 - val_loss: 1.0165 - val_accuracy: 0.6734\n",
            "Epoch 61/100\n",
            "448/448 [==============================] - 72s 160ms/step - loss: 0.5512 - accuracy: 0.7961 - val_loss: 1.0429 - val_accuracy: 0.6779\n",
            "Epoch 62/100\n",
            "448/448 [==============================] - 72s 160ms/step - loss: 0.5408 - accuracy: 0.7992 - val_loss: 1.0231 - val_accuracy: 0.6670\n",
            "Epoch 63/100\n",
            "448/448 [==============================] - 72s 160ms/step - loss: 0.5371 - accuracy: 0.8008 - val_loss: 1.0661 - val_accuracy: 0.6751\n",
            "Epoch 64/100\n",
            "448/448 [==============================] - 72s 160ms/step - loss: 0.5243 - accuracy: 0.8077 - val_loss: 1.0632 - val_accuracy: 0.6693\n",
            "Epoch 65/100\n",
            "448/448 [==============================] - 72s 160ms/step - loss: 0.5104 - accuracy: 0.8091 - val_loss: 1.0581 - val_accuracy: 0.6704\n",
            "Epoch 66/100\n",
            "448/448 [==============================] - 72s 160ms/step - loss: 0.5143 - accuracy: 0.8096 - val_loss: 1.0955 - val_accuracy: 0.6734\n",
            "Epoch 67/100\n",
            "448/448 [==============================] - 72s 160ms/step - loss: 0.5089 - accuracy: 0.8134 - val_loss: 1.1109 - val_accuracy: 0.6609\n",
            "Epoch 68/100\n",
            "448/448 [==============================] - 71s 159ms/step - loss: 0.4976 - accuracy: 0.8165 - val_loss: 1.0756 - val_accuracy: 0.6631\n",
            "Epoch 69/100\n",
            "448/448 [==============================] - 71s 159ms/step - loss: 0.4803 - accuracy: 0.8229 - val_loss: 1.1254 - val_accuracy: 0.6796\n",
            "Epoch 70/100\n",
            "448/448 [==============================] - 71s 159ms/step - loss: 0.4804 - accuracy: 0.8241 - val_loss: 1.1013 - val_accuracy: 0.6709\n",
            "Epoch 71/100\n",
            "448/448 [==============================] - 71s 159ms/step - loss: 0.4753 - accuracy: 0.8262 - val_loss: 1.1293 - val_accuracy: 0.6690\n",
            "Epoch 72/100\n",
            "448/448 [==============================] - 71s 159ms/step - loss: 0.4673 - accuracy: 0.8280 - val_loss: 1.0868 - val_accuracy: 0.6757\n",
            "Epoch 73/100\n",
            "448/448 [==============================] - 72s 159ms/step - loss: 0.4571 - accuracy: 0.8333 - val_loss: 1.0685 - val_accuracy: 0.6846\n",
            "Epoch 74/100\n",
            "448/448 [==============================] - 72s 160ms/step - loss: 0.4503 - accuracy: 0.8350 - val_loss: 1.0999 - val_accuracy: 0.6718\n",
            "Epoch 75/100\n",
            "448/448 [==============================] - 72s 159ms/step - loss: 0.4548 - accuracy: 0.8325 - val_loss: 1.1431 - val_accuracy: 0.6620\n",
            "Epoch 76/100\n",
            "448/448 [==============================] - 71s 159ms/step - loss: 0.4409 - accuracy: 0.8389 - val_loss: 1.0670 - val_accuracy: 0.6693\n",
            "Epoch 77/100\n",
            "448/448 [==============================] - 72s 160ms/step - loss: 0.4359 - accuracy: 0.8408 - val_loss: 1.1624 - val_accuracy: 0.6637\n",
            "Epoch 78/100\n",
            "448/448 [==============================] - 71s 159ms/step - loss: 0.4214 - accuracy: 0.8451 - val_loss: 1.2109 - val_accuracy: 0.6690\n",
            "Epoch 79/100\n",
            "448/448 [==============================] - 71s 159ms/step - loss: 0.4221 - accuracy: 0.8461 - val_loss: 1.1281 - val_accuracy: 0.6877\n",
            "Epoch 80/100\n",
            "448/448 [==============================] - 71s 159ms/step - loss: 0.4089 - accuracy: 0.8501 - val_loss: 1.1710 - val_accuracy: 0.6754\n",
            "Epoch 81/100\n",
            "448/448 [==============================] - 72s 160ms/step - loss: 0.4117 - accuracy: 0.8507 - val_loss: 1.1434 - val_accuracy: 0.6773\n",
            "Epoch 82/100\n",
            "448/448 [==============================] - 72s 160ms/step - loss: 0.4033 - accuracy: 0.8509 - val_loss: 1.1739 - val_accuracy: 0.6754\n",
            "Epoch 83/100\n",
            "448/448 [==============================] - 71s 159ms/step - loss: 0.3933 - accuracy: 0.8551 - val_loss: 1.1966 - val_accuracy: 0.6760\n",
            "Epoch 84/100\n",
            "448/448 [==============================] - 71s 159ms/step - loss: 0.3923 - accuracy: 0.8552 - val_loss: 1.1777 - val_accuracy: 0.6662\n",
            "Epoch 85/100\n",
            "448/448 [==============================] - 71s 159ms/step - loss: 0.3843 - accuracy: 0.8599 - val_loss: 1.1307 - val_accuracy: 0.6812\n",
            "Epoch 86/100\n",
            "448/448 [==============================] - 71s 159ms/step - loss: 0.3780 - accuracy: 0.8632 - val_loss: 1.1581 - val_accuracy: 0.6701\n",
            "Epoch 87/100\n",
            "448/448 [==============================] - 71s 159ms/step - loss: 0.3782 - accuracy: 0.8588 - val_loss: 1.1589 - val_accuracy: 0.6851\n",
            "Epoch 88/100\n",
            "448/448 [==============================] - 71s 159ms/step - loss: 0.3561 - accuracy: 0.8691 - val_loss: 1.3005 - val_accuracy: 0.6559\n",
            "Epoch 89/100\n",
            "448/448 [==============================] - 72s 160ms/step - loss: 0.3648 - accuracy: 0.8667 - val_loss: 1.2209 - val_accuracy: 0.6617\n",
            "Epoch 90/100\n",
            "448/448 [==============================] - 71s 159ms/step - loss: 0.3541 - accuracy: 0.8707 - val_loss: 1.2148 - val_accuracy: 0.6787\n",
            "Epoch 91/100\n",
            "448/448 [==============================] - 72s 159ms/step - loss: 0.3575 - accuracy: 0.8665 - val_loss: 1.2397 - val_accuracy: 0.6726\n",
            "Epoch 92/100\n",
            "448/448 [==============================] - 71s 159ms/step - loss: 0.3478 - accuracy: 0.8719 - val_loss: 1.2960 - val_accuracy: 0.6746\n",
            "Epoch 93/100\n",
            "448/448 [==============================] - 72s 159ms/step - loss: 0.3441 - accuracy: 0.8731 - val_loss: 1.2347 - val_accuracy: 0.6723\n",
            "Epoch 94/100\n",
            "448/448 [==============================] - 71s 159ms/step - loss: 0.3372 - accuracy: 0.8760 - val_loss: 1.2851 - val_accuracy: 0.6665\n",
            "Epoch 95/100\n",
            "448/448 [==============================] - 71s 159ms/step - loss: 0.3339 - accuracy: 0.8792 - val_loss: 1.2381 - val_accuracy: 0.6824\n",
            "Epoch 96/100\n",
            "448/448 [==============================] - 72s 160ms/step - loss: 0.3303 - accuracy: 0.8775 - val_loss: 1.2677 - val_accuracy: 0.6726\n",
            "Epoch 97/100\n",
            "448/448 [==============================] - 71s 159ms/step - loss: 0.3311 - accuracy: 0.8803 - val_loss: 1.2188 - val_accuracy: 0.6751\n",
            "Epoch 98/100\n",
            "448/448 [==============================] - 71s 159ms/step - loss: 0.3184 - accuracy: 0.8837 - val_loss: 1.2598 - val_accuracy: 0.6773\n",
            "Epoch 99/100\n",
            "448/448 [==============================] - 71s 159ms/step - loss: 0.3161 - accuracy: 0.8839 - val_loss: 1.3191 - val_accuracy: 0.6690\n",
            "Epoch 100/100\n",
            "448/448 [==============================] - 71s 159ms/step - loss: 0.3117 - accuracy: 0.8863 - val_loss: 1.2948 - val_accuracy: 0.6790\n"
          ]
        }
      ]
    },
    {
      "cell_type": "code",
      "source": [
        "model_json = model.to_json()\n",
        "with open(\"/content/drive/MyDrive/Resume-Apratim Sadhu/model.json\", \"w\") as json_file:\n",
        "    json_file.write(model_json)\n",
        "model.save_weights(\"/content/drive/MyDrive/Resume-Apratim Sadhu/model.h5\")\n",
        "print(\"Saved model to disk\")"
      ],
      "metadata": {
        "id": "Bqx3f1arYzIO",
        "colab": {
          "base_uri": "https://localhost:8080/"
        },
        "outputId": "43ea5158-7e6d-4cbe-f595-b3c6225c77ee"
      },
      "execution_count": null,
      "outputs": [
        {
          "output_type": "stream",
          "name": "stdout",
          "text": [
            "Saved model to disk\n"
          ]
        }
      ]
    },
    {
      "cell_type": "code",
      "source": [
        "model.save(\"/content/drive/MyDrive/Resume-Apratim Sadhu/HDF5model.h5\")"
      ],
      "metadata": {
        "id": "L0lPgO2NmGj7"
      },
      "execution_count": null,
      "outputs": []
    },
    {
      "cell_type": "code",
      "source": [
        "# plot the evolution of Loss and Acuracy on the train and validation sets\n",
        "import seaborn as sns\n",
        "sns.set(style='whitegrid')\n",
        "\n",
        "# plt.figure(figsize=(20,10))\n",
        "plt.subplot(1, 2, 1)\n",
        "plt.suptitle('Optimizer : Adam', fontsize=10)\n",
        "plt.ylabel('Loss', fontsize=16)\n",
        "plt.plot(history.history['loss'], label='Training Loss')\n",
        "plt.plot(history.history['val_loss'], label='Validation Loss')\n",
        "plt.legend(loc='upper right')\n",
        "\n",
        "plt.subplot(1, 2, 2)\n",
        "plt.ylabel('Accuracy', fontsize=16)\n",
        "plt.plot(history.history['accuracy'], label='Training Accuracy')\n",
        "plt.plot(history.history['val_accuracy'], label='Validation Accuracy')\n",
        "plt.legend(loc='lower right')\n",
        "plt.show()"
      ],
      "metadata": {
        "colab": {
          "base_uri": "https://localhost:8080/",
          "height": 297
        },
        "id": "dQU-SMSfmyqG",
        "outputId": "c86d42ac-d842-4b91-8476-30e4c9164082"
      },
      "execution_count": null,
      "outputs": [
        {
          "output_type": "display_data",
          "data": {
            "text/plain": [
              "<Figure size 432x288 with 2 Axes>"
            ],
            "image/png": "[encoded data removed]"
          },
          "metadata": {}
        }
      ]
    },
    {
      "cell_type": "code",
      "source": [
        "model_json_file = \"model.json\"\n",
        "model_weights_file = \"model_weights.h5\"\n",
        "\n",
        "with open(model_json_file, \"r\") as json_file:\n",
        "    loaded_model_json = json_file.read()\n",
        "    model = model_from_json(loaded_model_json)\n",
        "    model.load_weights(model_weights_file)"
      ],
      "metadata": {
        "id": "dqRMua__X5va"
      },
      "execution_count": 18,
      "outputs": []
    },
    {
      "cell_type": "code",
      "source": [
        "#Assigning Names to Emotions in labels\n",
        "\n",
        "num_classes = 7\n",
        "width = 48\n",
        "height = 48\n",
        "emotion_labels = [\"Angry\", \"Disgust\", \"Fear\", \"Happy\", \"Sad\", \"Surprise\", \"Neutral\"]\n",
        "classes=np.array((\"Angry\", \"Disgust\", \"Fear\", \"Happy\", \"Sad\", \"Surprise\", \"Neutral\"))\n",
        "df.Usage.value_counts() "
      ],
      "metadata": {
        "colab": {
          "base_uri": "https://localhost:8080/"
        },
        "id": "oHhHfi5LY9Gk",
        "outputId": "8254a67f-7add-4278-99a0-e9c24a8260c3"
      },
      "execution_count": 21,
      "outputs": [
        {
          "output_type": "execute_result",
          "data": {
            "text/plain": [
              "Training       28709\n",
              "PublicTest      3589\n",
              "PrivateTest     3589\n",
              "Name: Usage, dtype: int64"
            ]
          },
          "metadata": {},
          "execution_count": 21
        }
      ]
    },
    {
      "cell_type": "code",
      "source": [
        "import itertools\n",
        "plt.figure(figsize=(8,8))\n",
        "def plot_confusion_matrix(y_test, y_pred, classes,\n",
        "                          normalize=False,\n",
        "                          title='confusion matrix',\n",
        "                          cmap=plt.cm.Blues):\n",
        "    cm = confusion_matrix(y_test, y_pred)\n",
        "    \n",
        "    if normalize:\n",
        "        cm = np.round(cm.astype('float') / cm.sum(axis=1)[:, np.newaxis], 2)\n",
        "        \n",
        "    np.set_printoptions(precision=2)\n",
        "        \n",
        "    plt.imshow(cm, interpolation='nearest', cmap=cmap)\n",
        "    plt.title(title)\n",
        "    plt.colorbar()\n",
        "    tick_marks = np.arange(len(classes))\n",
        "    plt.xticks(tick_marks, classes, rotation=45)\n",
        "    plt.yticks(tick_marks, classes)\n",
        "\n",
        "    thresh = cm.min() + (cm.max() - cm.min()) / 2.\n",
        "    for i, j in itertools.product(range(cm.shape[0]), range(cm.shape[1])):\n",
        "        plt.text(j, i, cm[i, j],\n",
        "                 horizontalalignment=\"center\",\n",
        "                 color=\"white\" if cm[i, j] > thresh else \"black\")\n",
        "\n",
        "    plt.tight_layout()\n",
        "    plt.ylabel('True expression')\n",
        "    plt.xlabel('Predicted expression')\n",
        "    plt.show()\n",
        "y_pred_ = model.predict(X_test/255., verbose=1)\n",
        "y_pred = np.argmax(y_pred_, axis=1)\n",
        "t_te = np.argmax(y_test, axis=1)\n",
        "fig = plot_confusion_matrix(y_test=t_te, y_pred=y_pred,\n",
        "                      classes=classes,\n",
        "                      normalize=True,\n",
        "                      cmap=plt.cm.Blues,   title='Average accuracy: ' + str(np.sum(y_pred == t_te)/len(t_te)) + '\\n')"
      ],
      "metadata": {
        "colab": {
          "base_uri": "https://localhost:8080/",
          "height": 602
        },
        "id": "C_DEK6_lnGMJ",
        "outputId": "2301c20d-f725-4d53-c09d-67bdfca7969d"
      },
      "execution_count": 32,
      "outputs": [
        {
          "output_type": "stream",
          "name": "stdout",
          "text": [
            "113/113 [==============================] - 3s 28ms/step\n"
          ]
        },
        {
          "output_type": "display_data",
          "data": {
            "text/plain": [
              "<Figure size 576x576 with 2 Axes>"
            ],
            "image/png": "[encoded data removed]"
          },
          "metadata": {
            "needs_background": "light"
          }
        }
      ]
    },
    {
      "cell_type": "code",
      "source": [
        ""
      ],
      "metadata": {
        "id": "9C0vRf_X_z8O"
      },
      "execution_count": null,
      "outputs": []
    }
  ]
}